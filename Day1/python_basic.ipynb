{
 "cells": [
  {
   "cell_type": "markdown",
   "id": "d17da651",
   "metadata": {},
   "source": [
    "# 1. Variables and Types"
   ]
  },
  {
   "cell_type": "code",
   "execution_count": 1,
   "id": "997e9f40",
   "metadata": {},
   "outputs": [
    {
     "name": "stdout",
     "output_type": "stream",
     "text": [
      "My name is Vishal. I am 19 years old. Learning? True\n"
     ]
    }
   ],
   "source": [
    "name = \"Vishal\"\n",
    "age = 19\n",
    "is_learning = True\n",
    "\n",
    "print(f\"My name is {name}. I am {age} years old. Learning? {is_learning}\")"
   ]
  },
  {
   "cell_type": "markdown",
   "id": "c398affb",
   "metadata": {},
   "source": [
    "# 2. Lists and Dictionaries"
   ]
  },
  {
   "cell_type": "code",
   "execution_count": 2,
   "id": "322b9b83",
   "metadata": {},
   "outputs": [
    {
     "name": "stdout",
     "output_type": "stream",
     "text": [
      "Tools: ['python', 'SQL', 'Docker', 'Git']\n",
      "Profile: {'name': 'Vishal', 'skills': ['python', 'SQL', 'Docker', 'Git', 'Kakfa'], 'is_employed': False}\n"
     ]
    }
   ],
   "source": [
    "tools = [\"python\", \"SQL\", \"Docker\", \"Git\"]\n",
    "print(\"Tools:\", tools)\n",
    "tools.append(\"Kakfa\")\n",
    "\n",
    "person = {\n",
    "    \"name\": \"Vishal\",\n",
    "    \"skills\": tools,\n",
    "    \"is_employed\": False\n",
    "}\n",
    "print(\"Profile:\", person)"
   ]
  },
  {
   "cell_type": "markdown",
   "id": "b9457c78",
   "metadata": {},
   "source": [
    "# 3. Loops"
   ]
  },
  {
   "cell_type": "code",
   "execution_count": 3,
   "id": "b465a55c",
   "metadata": {},
   "outputs": [
    {
     "name": "stdout",
     "output_type": "stream",
     "text": [
      "Learning: ['python', 'SQL', 'Docker', 'Git', 'Kakfa']\n",
      "Learning: ['python', 'SQL', 'Docker', 'Git', 'Kakfa']\n",
      "Learning: ['python', 'SQL', 'Docker', 'Git', 'Kakfa']\n",
      "Learning: ['python', 'SQL', 'Docker', 'Git', 'Kakfa']\n",
      "Learning: ['python', 'SQL', 'Docker', 'Git', 'Kakfa']\n",
      "name -> Vishal\n",
      "skills -> ['python', 'SQL', 'Docker', 'Git', 'Kakfa']\n",
      "is_employed -> False\n"
     ]
    }
   ],
   "source": [
    "for tool in tools:\n",
    "    print(f\"Learning: {tools}\")\n",
    "\n",
    "for key, value in person.items():\n",
    "    print(f\"{key} -> {value}\")"
   ]
  },
  {
   "cell_type": "markdown",
   "id": "ffa46cb4",
   "metadata": {},
   "source": [
    "# 4. Functions"
   ]
  },
  {
   "cell_type": "code",
   "execution_count": 4,
   "id": "de05c915",
   "metadata": {},
   "outputs": [
    {
     "name": "stdout",
     "output_type": "stream",
     "text": [
      "Hello, Vishal. Ready to build your future?\n"
     ]
    }
   ],
   "source": [
    "def greet(name):\n",
    "    return f\"Hello, {name}. Ready to build your future?\"\n",
    "\n",
    "print(greet(\"Vishal\"))"
   ]
  },
  {
   "cell_type": "markdown",
   "id": "3ea8f08c",
   "metadata": {},
   "source": [
    "# 5. File Handling"
   ]
  },
  {
   "cell_type": "code",
   "execution_count": 5,
   "id": "a674b035",
   "metadata": {},
   "outputs": [
    {
     "name": "stdout",
     "output_type": "stream",
     "text": [
      "name,score\n",
      "Vishal,95\n",
      "Aman,88\n"
     ]
    }
   ],
   "source": [
    "data = \"name,score\\nVishal,95\\nAman,88\"\n",
    "\n",
    "with open(\"scores.csv\", \"w\") as file:\n",
    "    file.write(data)\n",
    "\n",
    "with open(\"scores.csv\", \"r\") as file:\n",
    "    print(file.read())"
   ]
  },
  {
   "cell_type": "markdown",
   "id": "ae6e780e",
   "metadata": {},
   "source": [
    "# Assignment "
   ]
  },
  {
   "cell_type": "markdown",
   "id": "b5251aba",
   "metadata": {},
   "source": [
    "1. Ask for the user for name, day number, and what they learned today\n",
    "2. Save it to learning_log.csv"
   ]
  },
  {
   "cell_type": "code",
   "execution_count": 7,
   "id": "623929c7",
   "metadata": {},
   "outputs": [
    {
     "name": "stdout",
     "output_type": "stream",
     "text": [
      "Saved:Vishal,1,Python basics for pipelines\n"
     ]
    }
   ],
   "source": [
    "name = input(\"Enter Name: \")\n",
    "day = input(\"Enter day: \")\n",
    "learned = input(\"What did you learn: \")\n",
    "\n",
    "with open(\"learning_log.csv\", \"w\") as file:\n",
    "    file.write(\"Name,Day,What I Learned\\n\")\n",
    "    file.write(f\"{name},{day},{learned}\\n\")\n",
    "\n",
    "with open(\"learning_log.csv\", \"r\") as file:\n",
    "    print(f\"Saved:{name},{day},{learned}\")"
   ]
  }
 ],
 "metadata": {
  "kernelspec": {
   "display_name": "Python 3",
   "language": "python",
   "name": "python3"
  },
  "language_info": {
   "codemirror_mode": {
    "name": "ipython",
    "version": 3
   },
   "file_extension": ".py",
   "mimetype": "text/x-python",
   "name": "python",
   "nbconvert_exporter": "python",
   "pygments_lexer": "ipython3",
   "version": "3.13.3"
  }
 },
 "nbformat": 4,
 "nbformat_minor": 5
}
