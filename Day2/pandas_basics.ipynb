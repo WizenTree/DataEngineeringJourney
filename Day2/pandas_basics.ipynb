{
 "cells": [
  {
   "cell_type": "markdown",
   "id": "cd551f55",
   "metadata": {},
   "source": [
    "1. Load a CSV"
   ]
  },
  {
   "cell_type": "code",
   "execution_count": 5,
   "id": "41e68cda",
   "metadata": {},
   "outputs": [
    {
     "name": "stdout",
     "output_type": "stream",
     "text": [
      "     name  score\n",
      "0  Vishal     95\n",
      "1    Aman     88\n"
     ]
    }
   ],
   "source": [
    "import pandas as pd\n",
    " \n",
    "df = pd.read_csv(r\"E:\\VISHAL NAIKAR\\DataEngineeringBootCamp\\Phase1_CoreSkills\\Day1\\scores.csv\")\n",
    "print(df)"
   ]
  },
  {
   "cell_type": "markdown",
   "id": "0b92a073",
   "metadata": {},
   "source": [
    "2. Load a JSON"
   ]
  },
  {
   "cell_type": "code",
   "execution_count": 6,
   "id": "c4fef063",
   "metadata": {},
   "outputs": [
    {
     "name": "stdout",
     "output_type": "stream",
     "text": [
      "     name  score\n",
      "0  Vishal     95\n",
      "1    Aman     88\n"
     ]
    }
   ],
   "source": [
    "sample_data = [\n",
    "    {\"name\": \"Vishal\", \"score\": 95},\n",
    "    {\"name\": \"Aman\", \"score\": 88}\n",
    "]\n",
    "\n",
    "df_json = pd.DataFrame(sample_data)\n",
    "df_json.to_json(\"scores.json\", orient=\"records\", indent=2)\n",
    "\n",
    "loaded = pd.read_json(\"scores.json\")\n",
    "print(loaded)"
   ]
  },
  {
   "cell_type": "markdown",
   "id": "84ece2ba",
   "metadata": {},
   "source": [
    "3. Read Excel"
   ]
  },
  {
   "cell_type": "code",
   "execution_count": 7,
   "id": "0d35bdbf",
   "metadata": {},
   "outputs": [
    {
     "name": "stdout",
     "output_type": "stream",
     "text": [
      "     name  score\n",
      "0  Vishal     95\n",
      "1    Aman     88\n"
     ]
    }
   ],
   "source": [
    "df.to_excel(\"scores.xlsx\", index=False)\n",
    "\n",
    "excel_df = pd.read_excel(\"scores.xlsx\")\n",
    "print(excel_df)"
   ]
  },
  {
   "cell_type": "markdown",
   "id": "7ea02b30",
   "metadata": {},
   "source": [
    "Transform the data"
   ]
  },
  {
   "cell_type": "code",
   "execution_count": 8,
   "id": "b9dc788a",
   "metadata": {},
   "outputs": [
    {
     "name": "stdout",
     "output_type": "stream",
     "text": [
      "     name  score\n",
      "0  Vishal    100\n",
      "1    Aman     93\n"
     ]
    }
   ],
   "source": [
    "df[\"score\"] = df[\"score\"] + 5\n",
    "print(df)"
   ]
  }
 ],
 "metadata": {
  "kernelspec": {
   "display_name": "Python 3",
   "language": "python",
   "name": "python3"
  },
  "language_info": {
   "codemirror_mode": {
    "name": "ipython",
    "version": 3
   },
   "file_extension": ".py",
   "mimetype": "text/x-python",
   "name": "python",
   "nbconvert_exporter": "python",
   "pygments_lexer": "ipython3",
   "version": "3.13.3"
  }
 },
 "nbformat": 4,
 "nbformat_minor": 5
}
